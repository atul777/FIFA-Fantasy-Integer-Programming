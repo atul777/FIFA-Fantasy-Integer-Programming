{
 "cells": [
  {
   "cell_type": "code",
   "execution_count": 1,
   "id": "30c39702",
   "metadata": {},
   "outputs": [],
   "source": [
    "import pandas as pd\n",
    "from gurobipy import *\n",
    "import openpyxl"
   ]
  },
  {
   "cell_type": "code",
   "execution_count": 5,
   "id": "2dbe4460",
   "metadata": {},
   "outputs": [],
   "source": [
    "# reading the inputs from Excel workbook\n",
    "wb = openpyxl.load_workbook(\"Project FIFA Final.xlsx\")\n",
    "main = wb['Starter11 Input']"
   ]
  },
  {
   "cell_type": "code",
   "execution_count": 6,
   "id": "cdeb61cb",
   "metadata": {},
   "outputs": [],
   "source": [
    "# read objevtive\n",
    "obj = main.cell(column=2, row=1).value\n",
    "if obj =='max':\n",
    "    obj = -1\n",
    "elif obj =='min':\n",
    "    obj = 1\n",
    "else:\n",
    "    raise NameError('Objective cannot be recognized')\n",
    "# read obj coefficient\n",
    "obj_coeff = []\n",
    "for c in range(2,10000):\n",
    "    v = main.cell(column=c, row=3).value\n",
    "    if v is None:\n",
    "        break\n",
    "    else:\n",
    "        obj_coeff.append(v)\n",
    "n_variables = len(obj_coeff)\n",
    "\n",
    "#read variable properties\n",
    "variable_name = []\n",
    "for c in range(n_variables):\n",
    "    v = main.cell(column=c+2, row=2).value\n",
    "    if v is None:\n",
    "        variable_name.append('x'+str(c+1))\n",
    "    elif type(v) != str:\n",
    "        variable_name.append(str(v))\n",
    "    else:\n",
    "        variable_name.append(v)\n",
    "        \n",
    "variable_type = []\n",
    "for c in range(n_variables):\n",
    "    v = main.cell(column=c+2, row=4).value\n",
    "    if v is None:\n",
    "        t = 'C' \n",
    "    elif v == 'cont':\n",
    "        t = 'C'\n",
    "    elif v == 'int':\n",
    "        t = 'I'\n",
    "    elif v == 'bin':\n",
    "        t = 'B'\n",
    "    else:\n",
    "        raise NameError('Variable type cannot be recognized')\n",
    "    variable_type.append(t)\n",
    "    \n",
    "variable_lb = []\n",
    "for c in range(n_variables):\n",
    "    v = main.cell(column=c+2, row=5).value\n",
    "    if v is None:\n",
    "        t = 0\n",
    "    elif v == '\"+inf\"':\n",
    "        raise NameError('Variable lower bound cannot be +inf')\n",
    "    elif v == '\"-inf\"':\n",
    "        t = -GRB.INFINITY\n",
    "    elif type(v) in [float, int]:\n",
    "        t = v\n",
    "    else:\n",
    "        raise NameError('Variable lower bound cannot be recognized')\n",
    "    variable_lb.append(t)\n",
    "\n",
    "variable_ub = []\n",
    "for c in range(n_variables):\n",
    "    v = main.cell(column=c+2, row=6).value\n",
    "    if v is None:\n",
    "        t = GRB.INFINITY\n",
    "    elif v == '\"+inf\"':\n",
    "        t = GRB.INFINITY\n",
    "    elif v == '\"-inf\"':\n",
    "        raise NameError('Variable upper bound cannot be -inf')\n",
    "    elif type(v) in [float, int]:\n",
    "        t = v\n",
    "    else:\n",
    "        raise NameError('Variable upper bound cannot be recognized')\n",
    "    variable_ub.append(t)\n",
    "#print(obj_coeff)"
   ]
  },
  {
   "cell_type": "code",
   "execution_count": 7,
   "id": "57689e65",
   "metadata": {},
   "outputs": [],
   "source": [
    "# read constraints\n",
    "## find constraint column index\n",
    "for c in range(1, n_variables+100):\n",
    "    v = main.cell(column=c, row=8).value\n",
    "    if v == 'constraint type':\n",
    "        const_typ_cind = c\n",
    "        break\n",
    "\n",
    "if const_typ_cind-2 != n_variables:\n",
    "    raise NameError('Number of variables does not match the constraints')\n",
    "    \n",
    "## find last constraint row index\n",
    "for r in range(9, 100000):\n",
    "    v = main.cell(column=const_typ_cind, row=r).value\n",
    "    if v is None:\n",
    "        break\n",
    "    elif v not in [\"<=\", \">=\", \"=\"]:\n",
    "        raise NameError(\"Wrong constraint type\")\n",
    "    else:\n",
    "        last_r_consraints=r\n",
    "\n",
    "## read constraints as dataframe\n",
    "for r in range(9, last_r_consraints+1):\n",
    "    v = main.cell(column=const_typ_cind+2, row=r).value\n",
    "    if v is None:\n",
    "        main.cell(column=const_typ_cind+2, row=r).value = \"c\"+str(r-8)\n",
    "    elif type(v) != str:\n",
    "        main.cell(column=const_typ_cind+2, row=r).value = str(v)\n",
    "    else:\n",
    "        1==1        \n",
    "values = []\n",
    "cons_df = pd.DataFrame()\n",
    "for r in range(9, last_r_consraints+1):\n",
    "    r_values = []\n",
    "    for c in range(2, const_typ_cind+3):\n",
    "        r_values.append(main.cell(column=c, row=r).value)\n",
    "    values.append(r_values)\n",
    "    cons_df = pd.DataFrame(values)\n",
    "    cons_df.fillna(0, inplace=True)\n",
    "    cons_df.rename(columns={const_typ_cind-2:'constraint type', \n",
    "                            const_typ_cind-1:'RHS values', \n",
    "                            const_typ_cind:'constraint name'}, inplace=True)"
   ]
  },
  {
   "cell_type": "code",
   "execution_count": 8,
   "id": "07720262",
   "metadata": {},
   "outputs": [
    {
     "name": "stdout",
     "output_type": "stream",
     "text": [
      "Restricted license - for non-production use only - expires 2023-10-25\n"
     ]
    }
   ],
   "source": [
    "# setup model\n",
    "m = Model()"
   ]
  },
  {
   "cell_type": "code",
   "execution_count": 9,
   "id": "90d1c2ac",
   "metadata": {},
   "outputs": [],
   "source": [
    "# add variables\n",
    "x=m.addVars(n_variables)\n",
    "# set types, lb, ub of variables\n",
    "for i in range(n_variables):\n",
    "    x[i].setAttr('VarNAME', variable_name[i])\n",
    "    x[i].setAttr('vType', variable_type[i])\n",
    "    x[i].setAttr('lb', variable_lb[i])\n",
    "    x[i].setAttr('ub', variable_ub[i])"
   ]
  },
  {
   "cell_type": "code",
   "execution_count": 10,
   "id": "c0a18b06",
   "metadata": {},
   "outputs": [],
   "source": [
    "# set objective\n",
    "objective = quicksum(obj_coeff[i] * x[i] for i in range(n_variables))\n",
    "m.setObjective(objective, obj)"
   ]
  },
  {
   "cell_type": "code",
   "execution_count": 11,
   "id": "ab299b02",
   "metadata": {},
   "outputs": [],
   "source": [
    "# add constraints\n",
    "if cons_df.shape[0]:\n",
    "    ## add le constraints\n",
    "    le_const = cons_df[cons_df['constraint type'] == '<=']\n",
    "    le_const.reset_index(inplace=True, drop=True)\n",
    "    for i in range(le_const.shape[0]):\n",
    "        m.addConstr(quicksum(le_const.iloc[i,j]* x[j] for j in range(n_variables)) <= le_const['RHS values'][i], \n",
    "                    name = le_const['constraint name'][i])\n",
    "    ## add ge constraints\n",
    "    ge_const = cons_df[cons_df['constraint type'] == '>=']\n",
    "    ge_const.reset_index(inplace=True, drop=True)\n",
    "    for i in range(ge_const.shape[0]):\n",
    "        m.addConstr(quicksum(ge_const.iloc[i,j]* x[j] for j in range(n_variables)) >= ge_const['RHS values'][i], \n",
    "                    name = ge_const['constraint name'][i])\n",
    "    ## add eq constraints\n",
    "    eq_const = cons_df[cons_df['constraint type'] == '=']\n",
    "    eq_const.reset_index(inplace=True, drop=True)\n",
    "    for i in range(eq_const.shape[0]):\n",
    "        m.addConstr(quicksum(eq_const.iloc[i,j]* x[j] for j in range(n_variables)) == eq_const['RHS values'][i], \n",
    "                    name = eq_const['constraint name'][i])"
   ]
  },
  {
   "cell_type": "code",
   "execution_count": 12,
   "id": "8242d093",
   "metadata": {},
   "outputs": [
    {
     "name": "stdout",
     "output_type": "stream",
     "text": [
      "Gurobi Optimizer version 9.5.2 build v9.5.2rc0 (win64)\n",
      "Thread count: 4 physical cores, 8 logical processors, using up to 8 threads\n",
      "Optimize a model with 15 rows, 139 columns and 505 nonzeros\n",
      "Model fingerprint: 0x8e5e83aa\n",
      "Variable types: 0 continuous, 139 integer (139 binary)\n",
      "Coefficient statistics:\n",
      "  Matrix range     [1e+00, 1e+01]\n",
      "  Objective range  [2e-01, 1e+01]\n",
      "  Bounds range     [0e+00, 0e+00]\n",
      "  RHS range        [1e+00, 9e+01]\n",
      "Found heuristic solution: objective 50.7000000\n",
      "Presolve removed 1 rows and 4 columns\n",
      "Presolve time: 0.02s\n",
      "Presolved: 14 rows, 135 columns, 478 nonzeros\n",
      "Variable types: 0 continuous, 135 integer (131 binary)\n",
      "Found heuristic solution: objective 78.7000000\n",
      "\n",
      "Root relaxation: objective 8.380000e+01, 12 iterations, 0.01 seconds (0.00 work units)\n",
      "\n",
      "    Nodes    |    Current Node    |     Objective Bounds      |     Work\n",
      " Expl Unexpl |  Obj  Depth IntInf | Incumbent    BestBd   Gap | It/Node Time\n",
      "\n",
      "*    0     0               0      83.8000000   83.80000  0.00%     -    0s\n",
      "\n",
      "Explored 1 nodes (12 simplex iterations) in 0.06 seconds (0.00 work units)\n",
      "Thread count was 8 (of 8 available processors)\n",
      "\n",
      "Solution count 3: 83.8 78.7 50.7 \n",
      "\n",
      "Optimal solution found (tolerance 1.00e-04)\n",
      "Best objective 8.380000000000e+01, best bound 8.380000000000e+01, gap 0.0000%\n"
     ]
    }
   ],
   "source": [
    "## run the model\n",
    "m.optimize()"
   ]
  },
  {
   "cell_type": "code",
   "execution_count": 13,
   "id": "13d6b9d3",
   "metadata": {},
   "outputs": [
    {
     "name": "stdout",
     "output_type": "stream",
     "text": [
      "\n",
      "    Variable            X \n",
      "-------------------------\n",
      "Denzel Dumfries            1 \n",
      " Daley Blind            1 \n",
      " Richarlison            1 \n",
      " Bukayo Saka            1 \n",
      "Philip Foden            1 \n",
      "Jordan Pickford            1 \n",
      "Kylian Mbappe            1 \n",
      "Bruno Fernandes            1 \n",
      "Goncalo Ramos            1 \n",
      "Raphael Guerreiro            1 \n",
      "        Pepe            1 \n"
     ]
    }
   ],
   "source": [
    "# print optimal solution\n",
    "m.printAttr('X')"
   ]
  },
  {
   "cell_type": "code",
   "execution_count": null,
   "id": "fcd510d2",
   "metadata": {},
   "outputs": [],
   "source": []
  },
  {
   "cell_type": "code",
   "execution_count": null,
   "id": "f498cb37",
   "metadata": {},
   "outputs": [],
   "source": []
  },
  {
   "cell_type": "code",
   "execution_count": null,
   "id": "9810dc59",
   "metadata": {},
   "outputs": [],
   "source": []
  }
 ],
 "metadata": {
  "kernelspec": {
   "display_name": "Python 3 (ipykernel)",
   "language": "python",
   "name": "python3"
  },
  "language_info": {
   "codemirror_mode": {
    "name": "ipython",
    "version": 3
   },
   "file_extension": ".py",
   "mimetype": "text/x-python",
   "name": "python",
   "nbconvert_exporter": "python",
   "pygments_lexer": "ipython3",
   "version": "3.9.12"
  }
 },
 "nbformat": 4,
 "nbformat_minor": 5
}
